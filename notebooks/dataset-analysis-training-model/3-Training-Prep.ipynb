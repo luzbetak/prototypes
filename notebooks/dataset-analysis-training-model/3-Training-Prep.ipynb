{
 "cells": [
  {
   "cell_type": "markdown",
   "id": "eb3bf3b5-9510-45d3-a331-b72d2872196d",
   "metadata": {},
   "source": [
    "# Step 3: Training Data Preparation"
   ]
  },
  {
   "cell_type": "markdown",
   "id": "e1f6960e-aee3-4d45-a8f2-106eb89a9f68",
   "metadata": {},
   "source": [
    "\n",
    "## Insights and Findings\n",
    "\n",
    "### 1. Data Filtering\n",
    "- **Age Filtering**: We removed customers under 18 years old to focus on adult drivers, improving the relevance of the data for model training.\n",
    "\n",
    "### 2. Key Insights\n",
    "\n",
    "- **Claim Costs by Age**: The 43-47 age group has the highest average claim payouts, followed by the 33-37 and 23-27 groups.\n",
    "\n",
    "- **Regional Age Variation**: Significant age variation exists across regions, with Utah showing the highest diversity. R\n",
    "\n",
    "- **Household Size by State**: States like Arkansas and Massachusetts have the largest households, which may correlate with higher vehicle usage.\n",
    "\n",
    "- **Customer Demographics**: The average customer age is 31.8 years. T\n",
    "\n",
    "- **Data Quality**: We addressed data quality issues by filtering out unrealistic ages.\n"
   ]
  },
  {
   "cell_type": "markdown",
   "id": "bddeee04-19d1-4650-96ac-2a49b3ea8c9d",
   "metadata": {},
   "source": [
    "### 2. Strategy for Handling Missing and Duplicate Data\n",
    "\n",
    "- **Missing Data**:\n",
    "  - **Imputation**: For missing numerical data, such as `Income`, we used median imputation to fill in gaps, ensuring that outliers did not skew the results. For categorical data, such as `Marital Status` and `Employment Type`, we used mode imputation to replace missing values with the most common category.\n",
    "  - **Removal**: In cases where entire columns or rows were mostly empty (e.g., certain unnamed columns), we removed them to streamline the dataset. Additionally, any records with critical missing information that could not be reliably imputed were excluded from the analysis.\n",
    "\n",
    "- **Duplicate Data**:\n",
    "  - **Deduplication**: We checked for and removed duplicate rows based on unique identifiers like `CUST_ID` and `CAR_ID` to ensure each customer and car was represented only once in the dataset. This helped prevent any biases or distortions in the analysis and model training.\n",
    "  - **Merge Handling**: During data merging, we carefully managed potential duplicates by aligning on primary keys (`HH_ID`, `CUST_ID`, and `CAR_ID`) to maintain data integrity across combined datasets.\n"
   ]
  },
  {
   "cell_type": "markdown",
   "id": "75fee835-7ea8-4960-a85c-970d44331623",
   "metadata": {},
   "source": [
    "### 3. Additional Features to Consider for Insurance Models\n",
    "\n",
    "From an insurance standpoint, adding the following features could significantly enhance the predictive power and relevance of the models:\n",
    "\n",
    "- **Vehicle Safety Features**:\n",
    "  - **Advanced Safety Systems**: Include whether the vehicle has advanced safety features like collision detection, lane assist, or automated braking. These can be strong predictors of lower accident rates and claim costs.\n",
    "  - **Crash Test Ratings**: Incorporate the vehicle’s crash test ratings from recognized safety organizations. Higher safety ratings could correlate with lower risk.\n",
    "\n",
    "- **Driver History**:\n",
    "  - **Previous Claims**: Add a feature indicating the customer’s past claim history. A history of frequent or costly claims might suggest higher future risk.\n",
    "  - **Driving Record**: Include data on traffic violations, accidents, or points on the driver’s license. A poor driving record could be a strong indicator of risk.\n",
    "\n",
    "- **Geographic Risk Factors**:\n",
    "  - **Accident Rate by Region**: Incorporate regional accident rates or crime statistics. Areas with higher accident rates might warrant higher premiums.\n",
    "  - **Weather Conditions**: Add features related to the typical weather conditions in the customer’s region (e.g., frequency of snow, rain). Poor weather conditions can increase accident risk.\n",
    "\n",
    "- **Vehicle Usage**:\n",
    "  - **Annual Mileage**: A feature indicating the average annual mileage driven. Higher mileage could correlate with increased exposure to risk.\n",
    "  - **Primary Use of Vehicle**: Whether the vehicle is used for personal, business, or mixed purposes. Business use vehicles might have different risk profiles than those used strictly for personal purposes.\n",
    "\n",
    "- **Customer Demographics**:\n",
    "  - **Occupation and Income Stability**: While income is already considered, adding features that reflect income stability (e.g., job type, employment history) could improve risk assessment, especially for predicting payment consistency or the likelihood of policy lapses.\n",
    "  - **Family Structure**: Including whether the customer has dependents or is part of a multi-car household. These factors could influence driving behavior and risk.\n",
    "\n",
    "- **Insurance Policy Details**:\n",
    "  - **Policy Tenure**: How long the customer has been with the insurance company. Longer tenure might indicate loyalty and lower risk of fraud or policy shopping.\n",
    "  - **Deductible Amount**: Include the deductible chosen by the customer. Higher deductibles might correlate with lower claim frequency but higher claim amounts when they do occur.\n",
    "\n",
    "Adding these features could provide a more comprehensive view of each customer’s risk profile, leading to more accurate pricing and better risk management.\n"
   ]
  },
  {
   "cell_type": "markdown",
   "id": "d59a542e-3732-4e8e-88fa-89186f9947e1",
   "metadata": {},
   "source": [
    "### 4. Features to Consider Removing from the Final Dataset\n",
    "\n",
    "While most features in the dataset provide valuable information, there are a few that may be redundant, irrelevant, or potentially misleading. Here are some features that could be considered for removal:\n",
    "\n",
    "- **Unnamed Columns**:\n",
    "  - **Reason**: Unnamed columns typically result from errors during data import and often contain only `NaN` values or irrelevant information. These columns do not contribute to the analysis and should be removed to clean up the dataset.\n",
    "\n",
    "- **Phone Number**:\n",
    "  - **Reason**: The phone number is not typically relevant for risk assessment or predictive modeling. It’s more of an administrative detail that doesn’t provide any predictive value and could be a privacy concern.\n",
    "\n",
    "- **ZIP Code**:\n",
    "  - **Reason**: While the region or state can be a valuable predictor, the ZIP code might be too granular and could introduce noise rather than add value, especially if region-level data (like state or city) is already included. Additionally, using ZIP code could raise privacy concerns.\n",
    "\n",
    "- **CUST_ID, CAR_ID, HH_ID**:\n",
    "  - **Reason**: These unique identifiers are essential for data processing and merging but do not hold predictive value. After all necessary merges and transformations are complete, these IDs can be removed from the dataset to reduce dimensionality.\n",
    "\n",
    "- **Referral Source**:\n",
    "  - **Reason**: Unless there's a specific reason to investigate how customers were referred to the insurance company (e.g., a marketing analysis), this feature might not be relevant for predicting risk or claim costs. If it's not correlated with the target variables, it could be safely removed.\n",
    "\n",
    "- **Active HH (Active Household)**:\n",
    "  - **Reason**: This feature is useful for filtering during the data preparation phase, but once you've identified active households and filtered out inactive ones, it may no longer be necessary. Removing it could simplify the dataset without losing valuable information.\n",
    "\n",
    "- **Antique Vehicle**:\n",
    "  - **Reason**: If the number of antique vehicles is very small or if these vehicles have very different risk profiles that warrant separate analysis, this feature might be removed or handled separately. Including it in a general model could skew results if antique vehicles behave differently than standard ones.\n",
    "\n"
   ]
  },
  {
   "cell_type": "markdown",
   "id": "7e58cba7-1d21-449e-a766-cb486858ae3b",
   "metadata": {},
   "source": [
    "## Prepared by: Kevin Luzbetak\n",
    "[https://luzbetak.github.io/](https://luzbetak.github.io/)"
   ]
  },
  {
   "cell_type": "code",
   "execution_count": null,
   "id": "d264ce31-0b99-4878-a959-d94ee6621045",
   "metadata": {},
   "outputs": [],
   "source": []
  }
 ],
 "metadata": {
  "kernelspec": {
   "display_name": "Python 3 (ipykernel)",
   "language": "python",
   "name": "python3"
  },
  "language_info": {
   "codemirror_mode": {
    "name": "ipython",
    "version": 3
   },
   "file_extension": ".py",
   "mimetype": "text/x-python",
   "name": "python",
   "nbconvert_exporter": "python",
   "pygments_lexer": "ipython3",
   "version": "3.12.4"
  }
 },
 "nbformat": 4,
 "nbformat_minor": 5
}
