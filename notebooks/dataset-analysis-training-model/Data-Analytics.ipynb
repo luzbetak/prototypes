{
 "cells": [
  {
   "cell_type": "code",
   "execution_count": 1,
   "id": "96235682-5b2e-4e07-b6d7-8c3441470a96",
   "metadata": {},
   "outputs": [],
   "source": [
    "import pandas as pd\n",
    "import matplotlib.pyplot as plt\n",
    "import seaborn as sns\n",
    "import pandas as pd\n",
    "import warnings\n",
    "# Suppress specific warnings\n",
    "warnings.filterwarnings(\"ignore\", category=UserWarning, message=\"Could not infer format\")"
   ]
  },
  {
   "cell_type": "code",
   "execution_count": 2,
   "id": "8772e8bf-e3d1-449d-9a53-8875182a7157",
   "metadata": {},
   "outputs": [],
   "source": [
    "# Step 2: Data Analysis \n",
    "\n",
    "# Load the combined dataset in Parquet format\n",
    "combined_df = pd.read_parquet('combined_dataset.parquet')\n",
    "\n",
    "# Filter for active households\n",
    "active_households_df = combined_df[combined_df['Active HH'] == 1]"
   ]
  },
  {
   "cell_type": "code",
   "execution_count": 3,
   "id": "eb61ce50-11c4-455c-8ba2-f20abecd1fc0",
   "metadata": {},
   "outputs": [
    {
     "name": "stdout",
     "output_type": "stream",
     "text": [
      "The average number of cars per active household is: 3.81\n"
     ]
    }
   ],
   "source": [
    "# 1. What is the average number of cars per household?\n",
    "\n",
    "\n",
    "# Group by household ID and count the number of unique car IDs\n",
    "cars_per_household = active_households_df.groupby('HH_ID')['CAR_ID'].nunique()\n",
    "\n",
    "# Calculate the average number of cars per household\n",
    "average_cars_per_household = cars_per_household.mean()\n",
    "\n",
    "# Display the result\n",
    "print(f\"The average number of cars per active household is: {average_cars_per_household:.2f}\")"
   ]
  },
  {
   "cell_type": "code",
   "execution_count": 4,
   "id": "6053554a-e94c-4bd6-8fa1-25bbd1f5f598",
   "metadata": {},
   "outputs": [
    {
     "name": "stdout",
     "output_type": "stream",
     "text": [
      "Number of cars by model year (sorted by year, descending):\n",
      "Model Year\n",
      "2024    22195\n",
      "2023    21979\n",
      "2022    22041\n",
      "2021    22289\n",
      "2020    21909\n",
      "2019    21990\n",
      "2018    21768\n",
      "2017    22386\n",
      "2016    22328\n",
      "2015    22142\n",
      "Name: count, dtype: int64\n"
     ]
    }
   ],
   "source": [
    "# 2. How many cars are there by model year?\n",
    "# Group by model year and count the number of cars\n",
    "cars_by_model_year = active_households_df['Model Year'].value_counts().sort_index(ascending=False)\n",
    "\n",
    "# Display the top 10 results\n",
    "print(\"Number of cars by model year (sorted by year, descending):\")\n",
    "print(cars_by_model_year.head(10))"
   ]
  },
  {
   "cell_type": "code",
   "execution_count": 5,
   "id": "c48fbc85-c8d1-4a10-86a7-bfefb09e44a2",
   "metadata": {},
   "outputs": [
    {
     "name": "stdout",
     "output_type": "stream",
     "text": [
      "Number of cars by make:\n",
      "Make\n",
      "Manufacturer2    135862\n",
      "Manufacturer1    135577\n",
      "Manufacturer3    135326\n",
      "Manufacturer6     88643\n",
      "Manufacturer7     88553\n",
      "Manufacturer4     47160\n",
      "Manufacturer5     47090\n",
      "Name: count, dtype: int64\n"
     ]
    }
   ],
   "source": [
    "# 3. How many cars are there by make?\n",
    "# Group by 'Make' and count the number of cars\n",
    "cars_by_make = active_households_df['Make'].value_counts()\n",
    "\n",
    "# Display the result\n",
    "print(\"Number of cars by make:\")\n",
    "print(cars_by_make)"
   ]
  },
  {
   "cell_type": "code",
   "execution_count": 6,
   "id": "e158d53d-95fe-4884-8cee-479f51220e20",
   "metadata": {},
   "outputs": [
    {
     "name": "stdout",
     "output_type": "stream",
     "text": [
      "Top safest cars based on Vehicle Safety Discount, Driver Safety Discount, and Claim Payout:\n",
      "                 Make  Model Year Body Style  Claim Payout\n",
      "16      Manufacturer2        2007     4 door             0\n",
      "562919  Manufacturer3        1971        SUV             0\n",
      "562926  Manufacturer2        1972        SUV             0\n",
      "562929  Manufacturer2        2007        SUV             0\n",
      "562939  Manufacturer3        2001     4 door             0\n",
      "562943  Manufacturer3        2018        SUV             0\n",
      "562954  Manufacturer1        2014     4 door             0\n",
      "562956  Manufacturer7        2023     4 door             0\n",
      "562960  Manufacturer5        2006     4 door             0\n",
      "562963  Manufacturer6        2005        SUV             0\n"
     ]
    }
   ],
   "source": [
    "# 4. Which cars are the safest?  What variables did you consider to define “safe”? \n",
    "# Consider only cars with both Vehicle Safety Discount and Driver Safety Discount\n",
    "safe_cars_df = active_households_df[\n",
    "    (active_households_df['Vehicle Safety Discount'] == 1) & \n",
    "    (active_households_df['Driver Safety Discount'] == 1)\n",
    "]\n",
    "\n",
    "# Rank cars by Claim Payout, assuming lower payouts indicate safer cars\n",
    "safe_cars_df = safe_cars_df.sort_values(by='Claim Payout', ascending=True)\n",
    "\n",
    "# Display the top safest cars\n",
    "print(\"Top safest cars based on Vehicle Safety Discount, Driver Safety Discount, and Claim Payout:\")\n",
    "print(safe_cars_df[['Make', 'Model Year', 'Body Style', 'Claim Payout']].head(10))"
   ]
  },
  {
   "cell_type": "code",
   "execution_count": 7,
   "id": "06ef3a76-d129-48a2-8f9e-b9d0da6ecfc6",
   "metadata": {},
   "outputs": [
    {
     "name": "stdout",
     "output_type": "stream",
     "text": [
      "States with the largest households (average number of customers per household):\n",
      "State_x\n",
      "AR    3.876744\n",
      "MA    3.862181\n",
      "NE    3.855932\n",
      "MD    3.855244\n",
      "WA    3.853886\n",
      "ME    3.852683\n",
      "HI    3.852651\n",
      "AL    3.849607\n",
      "MI    3.849462\n",
      "NV    3.848837\n",
      "Name: Household Size, dtype: float64\n"
     ]
    }
   ],
   "source": [
    "# 5. Which states have the largest households (defined as number of customers in a household)?\n",
    "# Group by household ID (HH_ID) and count the number of unique customers (CUST_ID)\n",
    "household_sizes = active_households_df.groupby('HH_ID')['CUST_ID'].nunique()\n",
    "\n",
    "# Merge the household size back to the main DataFrame to associate with state information\n",
    "household_sizes_df = active_households_df[['HH_ID', 'State_x']].drop_duplicates().merge(\n",
    "    household_sizes.rename('Household Size'), on='HH_ID'\n",
    ")\n",
    "\n",
    "# Group by state and calculate the average household size\n",
    "state_household_sizes = household_sizes_df.groupby('State_x')['Household Size'].mean()\n",
    "\n",
    "# Sort by household size in descending order to see which states have the largest households\n",
    "state_household_sizes = state_household_sizes.sort_values(ascending=False)\n",
    "\n",
    "# Display the top states with the largest households\n",
    "print(\"States with the largest households (average number of customers per household):\")\n",
    "print(state_household_sizes.head(10))"
   ]
  },
  {
   "cell_type": "code",
   "execution_count": 8,
   "id": "d39db3dd-df7d-41f0-b3ce-0c42dca19e2c",
   "metadata": {},
   "outputs": [
    {
     "name": "stdout",
     "output_type": "stream",
     "text": [
      "Number of active households as of 1/1/2021: 96421\n"
     ]
    }
   ],
   "source": [
    "# 6. How many active households are there as of 1/1/2021?\n",
    "# Convert 'HH Start Date' to datetime format with .loc to avoid SettingWithCopyWarning\n",
    "active_households_df.loc[:, 'HH Start Date'] = pd.to_datetime(active_households_df['HH Start Date'], errors='coerce')\n",
    "\n",
    "# Define the cutoff date\n",
    "cutoff_date = pd.to_datetime('2021-01-01')\n",
    "\n",
    "# Filter out any rows where the date conversion failed (resulting in NaT)\n",
    "active_households_df = active_households_df.dropna(subset=['HH Start Date'])\n",
    "\n",
    "# Filter for households that were active as of 1/1/2021\n",
    "active_households_as_of_2021 = active_households_df[\n",
    "    (active_households_df['HH Start Date'] <= cutoff_date) & \n",
    "    (active_households_df['Active HH'] == 1)\n",
    "]\n",
    "\n",
    "# Get the number of unique active households\n",
    "num_active_households = active_households_as_of_2021['HH_ID'].nunique()\n",
    "\n",
    "# Display the result\n",
    "print(f\"Number of active households as of 1/1/2021: {num_active_households}\")"
   ]
  },
  {
   "cell_type": "code",
   "execution_count": 9,
   "id": "a7fd91d2-e0f1-4419-98c1-21d7ac3b642e",
   "metadata": {},
   "outputs": [
    {
     "name": "stdout",
     "output_type": "stream",
     "text": [
      "The average age of customers is: 31.80 years\n"
     ]
    }
   ],
   "source": [
    "# 7. What is the average age of customers?\n",
    "# Convert 'Date of Birth' to datetime format\n",
    "active_households_df['Date of Birth'] = pd.to_datetime(active_households_df['Date of Birth'], errors='coerce')\n",
    "\n",
    "# Calculate the age of each customer\n",
    "current_year = pd.to_datetime('today').year\n",
    "active_households_df['Age'] = current_year - active_households_df['Date of Birth'].dt.year\n",
    "\n",
    "# Filter out unrealistic ages (e.g., less than 18 years)\n",
    "valid_ages_df = active_households_df[active_households_df['Age'] >= 18]\n",
    "\n",
    "# Calculate the average age, ignoring NaN values\n",
    "average_age = valid_ages_df['Age'].mean()\n",
    "\n",
    "# Display the result\n",
    "print(f\"The average age of customers is: {average_age:.2f} years\")"
   ]
  },
  {
   "cell_type": "code",
   "execution_count": 10,
   "id": "909a21de-0e32-4fa0-aa77-95011243622a",
   "metadata": {},
   "outputs": [
    {
     "name": "stdout",
     "output_type": "stream",
     "text": [
      "Age variation by region (standard deviation):\n",
      "State_x\n",
      "UT    9.381419\n",
      "WI    9.266581\n",
      "AL    9.199879\n",
      "NY    9.194210\n",
      "ID    9.175519\n",
      "CO    9.174811\n",
      "AZ    9.154639\n",
      "SC    9.151280\n",
      "NH    9.147248\n",
      "KY    9.143139\n",
      "IN    9.131519\n",
      "MT    9.129278\n",
      "WV    9.108490\n",
      "DE    9.100462\n",
      "MA    9.096284\n",
      "NM    9.093254\n",
      "RI    9.093189\n",
      "HI    9.087988\n",
      "ND    9.074230\n",
      "NE    9.073035\n",
      "WY    9.065078\n",
      "IL    9.063765\n",
      "NJ    9.063647\n",
      "LA    9.061940\n",
      "ME    9.059470\n",
      "FL    9.058000\n",
      "NC    9.056540\n",
      "KS    9.054822\n",
      "MO    9.049148\n",
      "CA    9.048333\n",
      "TX    9.041147\n",
      "CT    9.040568\n",
      "IA    9.040369\n",
      "MI    9.038803\n",
      "MD    9.037131\n",
      "TN    9.035910\n",
      "VA    9.033866\n",
      "VT    9.032301\n",
      "AK    9.026255\n",
      "MS    9.024807\n",
      "OR    9.020563\n",
      "OK    9.019455\n",
      "SD    9.009976\n",
      "AR    9.009898\n",
      "NV    9.006045\n",
      "PA    9.004461\n",
      "OH    8.993309\n",
      "WA    8.977569\n",
      "MN    8.975167\n",
      "GA    8.965214\n",
      "Name: Age, dtype: float64\n"
     ]
    }
   ],
   "source": [
    "# 8. How much does age vary by region?\n",
    "# Group by region (assuming 'State_x' represents region) and calculate the standard deviation of ages\n",
    "age_variation_by_region = valid_ages_df.groupby('State_x')['Age'].std()\n",
    "\n",
    "# Display the results\n",
    "print(\"Age variation by region (standard deviation):\")\n",
    "print(age_variation_by_region.sort_values(ascending=False))"
   ]
  },
  {
   "cell_type": "code",
   "execution_count": 11,
   "id": "fc7202df-ea21-4dc9-b7df-936d7e1ca138",
   "metadata": {},
   "outputs": [
    {
     "name": "stdout",
     "output_type": "stream",
     "text": [
      "Average claim payout by age group (NaN values removed):\n",
      "Age Group\n",
      "43-47    1358.962141\n",
      "33-37    1269.128386\n",
      "23-27    1245.927420\n",
      "18-22    1241.074056\n",
      "28-32    1160.118583\n",
      "48-52    1145.497340\n",
      "38-42    1023.299820\n",
      "Name: Claim Payout, dtype: float64\n"
     ]
    }
   ],
   "source": [
    "# 9. Which age group has the most expensive claims? \n",
    "# Convert 'Date of Birth' to datetime format (if not already done)\n",
    "active_households_df['Date of Birth'] = pd.to_datetime(active_households_df['Date of Birth'], errors='coerce')\n",
    "\n",
    "# Calculate the age of each customer (if not already done)\n",
    "current_year = pd.to_datetime('today').year\n",
    "active_households_df['Age'] = current_year - active_households_df['Date of Birth'].dt.year\n",
    "\n",
    "# Filter out records where age is under 18\n",
    "valid_ages_df = active_households_df[active_households_df['Age'] >= 18].copy()\n",
    "\n",
    "# Define age groups (bins), combining all ages 73 and above into one group\n",
    "bins = [18, 23, 28, 33, 38, 43, 48, 53, 58, 63, 68, 73, 100]\n",
    "labels = ['18-22', '23-27', '28-32', '33-37', '38-42', '43-47', '48-52', '53-57', '58-62', '63-67', '68-72', '73+']\n",
    "\n",
    "# Use these bins and labels for categorizing ages\n",
    "valid_ages_df.loc[:, 'Age Group'] = pd.cut(valid_ages_df['Age'], bins=bins, labels=labels, right=False)\n",
    "\n",
    "# Calculate the average claim payout per age group\n",
    "avg_claims_by_age_group = valid_ages_df.groupby('Age Group', observed=False)['Claim Payout'].mean()\n",
    "\n",
    "# Remove NaN values\n",
    "avg_claims_by_age_group = avg_claims_by_age_group.dropna()\n",
    "\n",
    "# Display the results\n",
    "print(\"Average claim payout by age group (NaN values removed):\")\n",
    "print(avg_claims_by_age_group.sort_values(ascending=False))"
   ]
  }
 ],
 "metadata": {
  "kernelspec": {
   "display_name": "Python 3 (ipykernel)",
   "language": "python",
   "name": "python3"
  },
  "language_info": {
   "codemirror_mode": {
    "name": "ipython",
    "version": 3
   },
   "file_extension": ".py",
   "mimetype": "text/x-python",
   "name": "python",
   "nbconvert_exporter": "python",
   "pygments_lexer": "ipython3",
   "version": "3.12.4"
  }
 },
 "nbformat": 4,
 "nbformat_minor": 5
}
